{
 "cells": [
  {
   "cell_type": "code",
   "execution_count": 1,
   "id": "23442771",
   "metadata": {},
   "outputs": [],
   "source": [
    "import numpy as np\n",
    "import pandas as pd\n",
    "import formulas\n",
    "import os"
   ]
  },
  {
   "cell_type": "code",
   "execution_count": 2,
   "id": "ec7f6f32",
   "metadata": {},
   "outputs": [],
   "source": [
    "#path to directory where pdb files are stored.\n",
    "path = r'/Users/s.shelke/Desktop/FinalDataForPaper/histogram/SAr/pdb/'\n",
    "\n",
    "#making list of files to be analyzed.\n",
    "files = []\n",
    "with open('pdb.txt', 'r') as f:\n",
    "    for file in f:\n",
    "        files.append(os.path.join(path, file[:-1]))"
   ]
  },
  {
   "cell_type": "code",
   "execution_count": 3,
   "id": "802d6335",
   "metadata": {},
   "outputs": [],
   "source": [
    "def coordinates1(file):\n",
    "    \"\"\"\n",
    "    Extracting data from pdb as DataFrame.\n",
    "    \n",
    "    Args:\n",
    "        file (str): pdb_file_name.\n",
    "        \n",
    "    Returns:\n",
    "        dfs (list): A list of DataFrames containing coordinates of \n",
    "                         desired atoms.\n",
    "    \"\"\"\n",
    "    df = formulas.read_pdb(file)\n",
    "    O = df[df['Atm'] == \"O\"]\n",
    "    N = df[df['Atm'] == \"N\"]\n",
    "    dfs = [O, N]\n",
    "    return dfs"
   ]
  },
  {
   "cell_type": "code",
   "execution_count": 4,
   "id": "804dca37",
   "metadata": {},
   "outputs": [],
   "source": [
    "def coordinates2(file):\n",
    "    \"\"\"\n",
    "    Extracting water molecules data from pdb file as DataFrame.\n",
    "    \n",
    "    Args:\n",
    "        file (str): pdb_file_name.\n",
    "        \n",
    "    Returns:\n",
    "        OH (DataFrame): DataFrame containing water molecule data.\n",
    "    \"\"\"\n",
    "    HetAtm_df = formulas.read_pdb_HetAtm(file)\n",
    "    OH = HetAtm_df.loc[(HetAtm_df['Atm'] == 'O') & (HetAtm_df['RESIDUE'] == 'HOH')]\n",
    "    return HetAtm_df, OH"
   ]
  },
  {
   "cell_type": "code",
   "execution_count": null,
   "id": "9fb9f1d9",
   "metadata": {},
   "outputs": [],
   "source": []
  }
 ],
 "metadata": {
  "kernelspec": {
   "display_name": "Python 3 (ipykernel)",
   "language": "python",
   "name": "python3"
  },
  "language_info": {
   "codemirror_mode": {
    "name": "ipython",
    "version": 3
   },
   "file_extension": ".py",
   "mimetype": "text/x-python",
   "name": "python",
   "nbconvert_exporter": "python",
   "pygments_lexer": "ipython3",
   "version": "3.9.12"
  }
 },
 "nbformat": 4,
 "nbformat_minor": 5
}
