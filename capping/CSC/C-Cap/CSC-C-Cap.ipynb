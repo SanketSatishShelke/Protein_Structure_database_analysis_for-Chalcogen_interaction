{
 "cells": [
  {
   "cell_type": "code",
   "execution_count": null,
   "id": "5760a0cd",
   "metadata": {},
   "outputs": [],
   "source": [
    "import os\n",
    "import pandas as pd\n",
    "import numpy as np\n",
    "import formulas"
   ]
  },
  {
   "cell_type": "code",
   "execution_count": null,
   "id": "3bbad98e",
   "metadata": {},
   "outputs": [],
   "source": [
    "contacts = pd.read_csv('txt file of interacting S-O', sep='\\t')\n",
    "path = r'str'\n",
    "contacts"
   ]
  },
  {
   "cell_type": "code",
   "execution_count": null,
   "id": "1c4531eb",
   "metadata": {},
   "outputs": [],
   "source": [
    "def coordinates(row):\n",
    "    \"\"\"\n",
    "    Extracting data from pdb as DataFrame.\n",
    "    \n",
    "    Args:\n",
    "        row (DataFrame row): Row of DataFrame with data of interacting Sulfur and Oxygen.\n",
    "        \n",
    "    Returns:\n",
    "        O, N (DataFrame): DataFrames containing coordinates of (i)th O and (i+4)th N.\n",
    "    \"\"\"\n",
    "    filename = row['file']\n",
    "    file = os.path.join(path, filename)\n",
    "    df = formulas.read_pdb(file)\n",
    "    O = df[(df['ATOM ID'] == \"O\") & (df['RES SEQ'] == row['IntResChain']) & \n",
    "           (df['RES INSERT'] == row['IntResNo'])]\n",
    "    N = df[(df['ATOM ID'] == \"N\") & (df['RES SEQ'] == row['IntResChain']) & \n",
    "           (df['RES INSERT'] == (row['IntResNo'] + 4))]\n",
    "    O.reset_index(inplace=True)\n",
    "    N.reset_index(inplace=True)\n",
    "    return O, N"
   ]
  },
  {
   "cell_type": "code",
   "execution_count": null,
   "id": "e58c6b31",
   "metadata": {},
   "outputs": [],
   "source": [
    "def distance_ON(O, N):\n",
    "    \"\"\"\n",
    "    Calculating distance between (i)th O and (i+4)th N.\n",
    "    \n",
    "    Args:\n",
    "        O, N (DataFrame): DataFrames containing coordinates of (i)th O and (i+4)th N.\n",
    "        \n",
    "    Returns:\n",
    "        dist_ON (float): distance between (i)th O and (i+4)th N.\n",
    "    \"\"\"\n",
    "    p1 = np.array([O['X AXIS'].iloc[0], O['Y AXIS'].iloc[0], O['Z AXIS'].iloc[0]])\n",
    "    p2 = np.array([N['X AXIS'].iloc[0], N['Y AXIS'].iloc[0], N['Z AXIS'].iloc[0]])\n",
    "    dist_ON = formulas.eu_distance(p1, p2)\n",
    "    return dist_ON"
   ]
  },
  {
   "cell_type": "code",
   "execution_count": null,
   "id": "ca9a8de1",
   "metadata": {},
   "outputs": [],
   "source": [
    "def Helix(row):\n",
    "    \"\"\"\n",
    "    List of alpha helix in the structure.\n",
    "    \n",
    "    Args:\n",
    "        row (DataFrame row): Row of DataFrame with data of interacting Sulfur and Oxygen.\n",
    "        \n",
    "    Returns:\n",
    "        helix (list): List of alpha helix in the structure.\n",
    "    \"\"\"\n",
    "    filename = row['file']\n",
    "    file = os.path.join(path, filename)\n",
    "    helix = []\n",
    "    with open(file, 'r') as pdb:\n",
    "        for line in pdb:\n",
    "            lis = line.split()\n",
    "            if lis[0] == 'HELIX':\n",
    "                lst = [lis[4], int(lis[5]), int(lis[8])]\n",
    "                helix.append(lst)\n",
    "            else:\n",
    "                pass\n",
    "    return helix"
   ]
  },
  {
   "cell_type": "code",
   "execution_count": null,
   "id": "de112232",
   "metadata": {},
   "outputs": [],
   "source": [
    "def cap_find(row, helix):\n",
    "    \"\"\"\n",
    "    Check if interacting residues forming C-Cap.\n",
    "    \n",
    "    Args:\n",
    "        row (DataFrame row): Row of DataFrame with data of interacting Sulfur and Oxygen.\n",
    "        \n",
    "        helix (list): List of alpha helix in the structure.\n",
    "        \n",
    "    \n",
    "    Returns:\n",
    "        cap (list): Deatils of the C-Cap.\n",
    "    \"\"\"\n",
    "    for hlx in helix:\n",
    "        if row['IntResChain'] == hlx[0]:\n",
    "            if int(row['IntResNo']) == hlx[2] - 1:\n",
    "                cap = [row, 'C1-Cap', hlx]\n",
    "            elif int(row['IntResNo']) == hlx[2] - 2:\n",
    "                cap = [row, 'C2-Cap', hlx]\n",
    "            elif int(row['IntResNo']) == hlx[2] - 3:\n",
    "                cap = [row, 'C3-Cap', hlx]\n",
    "            else:\n",
    "                pass\n",
    "    return cap"
   ]
  },
  {
   "cell_type": "code",
   "execution_count": null,
   "id": "866aeaa1",
   "metadata": {
    "scrolled": true
   },
   "outputs": [],
   "source": [
    "def seq_run(row):\n",
    "    \"\"\"\n",
    "    Running functions defined in cells before sequentially.\n",
    "    \n",
    "    Args:\n",
    "        row (DataFrame row): Row of DataFrame with data of interacting Sulfur and Oxygen.\n",
    "    \n",
    "    Returns:\n",
    "        result (DataFrame): A dataframe with details of distance and directional criterion\n",
    "                            of the residues from C-Cap.\n",
    "    \"\"\"   \n",
    "    cols = ['file', 'Met_Chain', 'Met_ResNo', 'IntResChain', 'IntResNo', 'IntAtomID', 'distance',\n",
    "            'delta', 'theta', 'distance_ON', 'CapType', 'HelixChainID', 'HelixRes1', 'HelixResLast']\n",
    "    result = pd.DataFrame(columns=cols)\n",
    "    O, N = coordinates(row)\n",
    "    \n",
    "    dist_ON = distance_ON(O, N)\n",
    "    \n",
    "    if dist_ON >= 3.5:\n",
    "        helix = Helix(row)\n",
    "        cap = cap_find(row, helix)\n",
    "        res = [row['file'], row['Met_Chain'], row['Met_ResNo'], row['IntResChain'], row['IntResNo'], \n",
    "                  row['IntAtomID'], row['distance'], row['delta'], row['theta'], dist_ON, cap[1]] + cap[-1]\n",
    "        result.loc[len(result)] = res\n",
    "    return result\n",
    "\n",
    "results = pd.DataFrame()\n",
    "for i, row in contacts.iterrows():\n",
    "    if (-50 <= row['delta'] <= 50) and (115 <= row['theta'] <= 155):\n",
    "        result = seq_run(row)\n",
    "        results = results.append(result, ignore_index=True)\n",
    "\n",
    "results.to_csv('CSC_C-Caps.txt', sep='\\t', index=False)"
   ]
  },
  {
   "cell_type": "code",
   "execution_count": null,
   "id": "57092de3",
   "metadata": {},
   "outputs": [],
   "source": []
  }
 ],
 "metadata": {
  "kernelspec": {
   "display_name": "Python 3 (ipykernel)",
   "language": "python",
   "name": "python3"
  },
  "language_info": {
   "codemirror_mode": {
    "name": "ipython",
    "version": 3
   },
   "file_extension": ".py",
   "mimetype": "text/x-python",
   "name": "python",
   "nbconvert_exporter": "python",
   "pygments_lexer": "ipython3",
   "version": "3.9.12"
  }
 },
 "nbformat": 4,
 "nbformat_minor": 5
}
